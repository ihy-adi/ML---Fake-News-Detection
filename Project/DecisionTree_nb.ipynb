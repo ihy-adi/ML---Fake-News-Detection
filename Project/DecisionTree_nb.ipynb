{
  "nbformat": 4,
  "nbformat_minor": 0,
  "metadata": {
    "colab": {
      "provenance": []
    },
    "kernelspec": {
      "name": "python3",
      "display_name": "Python 3"
    },
    "language_info": {
      "name": "python"
    }
  },
  "cells": [
    {
      "cell_type": "code",
      "execution_count": 3,
      "metadata": {
        "id": "VDmoUZ5_tTr5"
      },
      "outputs": [],
      "source": [
        "import pandas as pd\n",
        "import matplotlib.pyplot as plt\n",
        "import numpy as np\n",
        "import seaborn as sns\n",
        "import string\n",
        "import re\n",
        "from sklearn.model_selection import train_test_split\n",
        "from sklearn.metrics import accuracy_score\n",
        "from sklearn.metrics import classification_report"
      ]
    },
    {
      "cell_type": "code",
      "source": [
        "# database.describe()\n",
        "#  sns.heatmap(database.corr(), cmap = \"YlGnBu\"). || correlation between the classes ||\n",
        "\n",
        "# if you want to do it using polars:\n",
        "\n",
        "# import polars as pl\n",
        "# splits = {'train': 'train.tsv', 'validation': 'validation.tsv', 'test': 'test.tsv'}\n",
        "# df = pl.read_csv('hf://datasets/ErfanMoosaviMonazzah/fake-news-detection-dataset-English/' + splits['train'], separator='\\t')\n"
      ],
      "metadata": {
        "id": "D5_KqR_AtbXB"
      },
      "execution_count": null,
      "outputs": []
    },
    {
      "cell_type": "code",
      "source": [
        "splits = {'train': 'train.tsv', 'validation': 'validation.tsv', 'test': 'test.tsv'}\n",
        "\n",
        "# Load the training dataset\n",
        "df_train = pd.read_csv(\"hf://datasets/ErfanMoosaviMonazzah/fake-news-detection-dataset-English/\" + splits[\"train\"], sep=\"\\t\")\n",
        "\n",
        "# Load the test dataset\n",
        "df_test = pd.read_csv(\"hf://datasets/ErfanMoosaviMonazzah/fake-news-detection-dataset-English/\" + splits[\"test\"], sep=\"\\t\")\n",
        "\n",
        "#label'd as fake new 0 ; real news 1"
      ],
      "metadata": {
        "id": "43JxdFo3m2RP"
      },
      "execution_count": 5,
      "outputs": []
    },
    {
      "cell_type": "markdown",
      "source": [
        "# **Dropping unwanted columns**"
      ],
      "metadata": {
        "id": "zGnO8KtLhSuE"
      }
    },
    {
      "cell_type": "code",
      "source": [
        "df_train.columns"
      ],
      "metadata": {
        "colab": {
          "base_uri": "https://localhost:8080/"
        },
        "id": "Yo_r_Rz5eCIv",
        "outputId": "77d9417c-d212-4a5a-be9f-34948938c070"
      },
      "execution_count": 9,
      "outputs": [
        {
          "output_type": "execute_result",
          "data": {
            "text/plain": [
              "Index(['Unnamed: 0', 'title', 'text', 'subject', 'date', 'label'], dtype='object')"
            ]
          },
          "metadata": {},
          "execution_count": 9
        }
      ]
    },
    {
      "cell_type": "code",
      "source": [
        "df_train = df_train.drop(['Unnamed: 0', 'title', 'subject', 'date'], axis=1)"
      ],
      "metadata": {
        "colab": {
          "base_uri": "https://localhost:8080/",
          "height": 275
        },
        "id": "rWtvIHsmfn7S",
        "outputId": "5c4534e1-769b-4205-9cf9-5bc1a401d495"
      },
      "execution_count": 19,
    },
    {
      "cell_type": "code",
      "source": [
        "df_test = df_test.drop(['Unnamed: 0', 'title', 'subject', 'date'], axis=1)"
      ],
      "metadata": {
        "id": "Tk9-hhk2jb4B"
      },
      "execution_count": 21,
      "outputs": []
    },
    {
      "cell_type": "code",
      "source": [
        "df_train.columns"
      ],
      "metadata": {
        "colab": {
          "base_uri": "https://localhost:8080/"
        },
        "id": "dbJRcH92hPwd",
        "outputId": "2675555f-6735-4136-ca6a-68ba6ca1b86c"
      },
      "execution_count": 23,
      "outputs": [
        {
          "output_type": "execute_result",
          "data": {
            "text/plain": [
              "Index(['text', 'label'], dtype='object')"
            ]
          },
          "metadata": {},
          "execution_count": 23
        }
      ]
    },
    {
      "cell_type": "code",
      "source": [
        "df_test.columns"
      ],
      "metadata": {
        "colab": {
          "base_uri": "https://localhost:8080/"
        },
        "id": "S1oAgUZ-jkfX",
        "outputId": "cebb327b-6336-43f5-cb9b-e33bcaf81c3e"
      },
      "execution_count": 24,
      "outputs": [
        {
          "output_type": "execute_result",
          "data": {
            "text/plain": [
              "Index(['text', 'label'], dtype='object')"
            ]
          },
          "metadata": {},
          "execution_count": 24
        }
      ]
    },
    {
      "cell_type": "code",
      "source": [
        "#count of missing values\n",
        "df_train.isnull().sum()"
      ],
      "metadata": {
        "colab": {
          "base_uri": "https://localhost:8080/",
          "height": 142
        },
        "id": "1VZ3KequhkUh",
        "outputId": "76574bec-bbd7-4d88-ef77-654c385be116"
      },
      "execution_count": 12,
      "outputs": [
        {
          "output_type": "execute_result",
          "data": {
            "text/plain": [
              "text     0\n",
              "label    0\n",
              "dtype: int64"
            ],
            "text/html": [
              "<div>\n",
              "<style scoped>\n",
              "    .dataframe tbody tr th:only-of-type {\n",
              "        vertical-align: middle;\n",
              "    }\n",
              "\n",
              "    .dataframe tbody tr th {\n",
              "        vertical-align: top;\n",
              "    }\n",
              "\n",
              "    .dataframe thead th {\n",
              "        text-align: right;\n",
              "    }\n",
              "</style>\n",
              "<table border=\"1\" class=\"dataframe\">\n",
              "  <thead>\n",
              "    <tr style=\"text-align: right;\">\n",
              "      <th></th>\n",
              "      <th>0</th>\n",
              "    </tr>\n",
              "  </thead>\n",
              "  <tbody>\n",
              "    <tr>\n",
              "      <th>text</th>\n",
              "      <td>0</td>\n",
              "    </tr>\n",
              "    <tr>\n",
              "      <th>label</th>\n",
              "      <td>0</td>\n",
              "    </tr>\n",
              "  </tbody>\n",
              "</table>\n",
              "</div><br><label><b>dtype:</b> int64</label>"
            ]
          },
          "metadata": {},
          "execution_count": 12
        }
      ]
    },
    {
      "cell_type": "markdown",
      "source": [
        "# Data is already suffled so we do not require to do so"
      ],
      "metadata": {
        "id": "AQ5jZx4ghvLN"
      }
    },
    {
      "cell_type": "code",
      "source": [
        "df_train.head()"
      ],
      "metadata": {
        "colab": {
          "base_uri": "https://localhost:8080/",
          "height": 201
        },
        "id": "FKVI6PuehqLC",
        "outputId": "7e522fd6-94d8-4b2d-f94f-19618a325cd7"
      },
      "execution_count": 13,
      "outputs": [
        {
          "output_type": "execute_result",
          "data": {
            "text/plain": [
              "                                                text  label\n",
              "0  Former CIA director John Brennan on Friday cri...      1\n",
              "1  How did this man come to OWN this store? There...      0\n",
              "2  President Donald Trump on Thursday tapped Fede...      1\n",
              "3  Hillary Clinton ally David Brock is offering t...      0\n",
              "4  Pleading ignorance is a perfect ploy for Nancy...      0"
            ],
            "text/html": [
              "\n",
              "  <div id=\"df-76ac6f4d-0273-4ca4-b523-af87b006da12\" class=\"colab-df-container\">\n",
              "    <div>\n",
              "<style scoped>\n",
              "    .dataframe tbody tr th:only-of-type {\n",
              "        vertical-align: middle;\n",
              "    }\n",
              "\n",
              "    .dataframe tbody tr th {\n",
              "        vertical-align: top;\n",
              "    }\n",
              "\n",
              "    .dataframe thead th {\n",
              "        text-align: right;\n",
              "    }\n",
              "</style>\n",
              "<table border=\"1\" class=\"dataframe\">\n",
              "  <thead>\n",
              "    <tr style=\"text-align: right;\">\n",
              "      <th></th>\n",
              "      <th>text</th>\n",
              "      <th>label</th>\n",
              "    </tr>\n",
              "  </thead>\n",
              "  <tbody>\n",
              "    <tr>\n",
              "      <th>0</th>\n",
              "      <td>Former CIA director John Brennan on Friday cri...</td>\n",
              "      <td>1</td>\n",
              "    </tr>\n",
              "    <tr>\n",
              "      <th>1</th>\n",
              "      <td>How did this man come to OWN this store? There...</td>\n",
              "      <td>0</td>\n",
              "    </tr>\n",
              "    <tr>\n",
              "      <th>2</th>\n",
              "      <td>President Donald Trump on Thursday tapped Fede...</td>\n",
              "      <td>1</td>\n",
              "    </tr>\n",
              "    <tr>\n",
              "      <th>3</th>\n",
              "      <td>Hillary Clinton ally David Brock is offering t...</td>\n",
              "      <td>0</td>\n",
              "    </tr>\n",
              "    <tr>\n",
              "      <th>4</th>\n",
              "      <td>Pleading ignorance is a perfect ploy for Nancy...</td>\n",
              "      <td>0</td>\n",
              "    </tr>\n",
              "  </tbody>\n",
              "</table>\n",
              "</div>\n",
              "    <div class=\"colab-df-buttons\">\n",
              "\n",
              "  <div class=\"colab-df-container\">\n",
              "    <button class=\"colab-df-convert\" onclick=\"convertToInteractive('df-76ac6f4d-0273-4ca4-b523-af87b006da12')\"\n",
              "            title=\"Convert this dataframe to an interactive table.\"\n",
              "            style=\"display:none;\">\n",
              "\n",
              "  <svg xmlns=\"http://www.w3.org/2000/svg\" height=\"24px\" viewBox=\"0 -960 960 960\">\n",
              "    <path d=\"M120-120v-720h720v720H120Zm60-500h600v-160H180v160Zm220 220h160v-160H400v160Zm0 220h160v-160H400v160ZM180-400h160v-160H180v160Zm440 0h160v-160H620v160ZM180-180h160v-160H180v160Zm440 0h160v-160H620v160Z\"/>\n",
              "  </svg>\n",
              "    </button>\n",
              "\n",
              "  <style>\n",
              "    .colab-df-container {\n",
              "      display:flex;\n",
              "      gap: 12px;\n",
              "    }\n",
              "\n",
              "    .colab-df-convert {\n",
              "      background-color: #E8F0FE;\n",
              "      border: none;\n",
              "      border-radius: 50%;\n",
              "      cursor: pointer;\n",
              "      display: none;\n",
              "      fill: #1967D2;\n",
              "      height: 32px;\n",
              "      padding: 0 0 0 0;\n",
              "      width: 32px;\n",
              "    }\n",
              "\n",
              "    .colab-df-convert:hover {\n",
              "      background-color: #E2EBFA;\n",
              "      box-shadow: 0px 1px 2px rgba(60, 64, 67, 0.3), 0px 1px 3px 1px rgba(60, 64, 67, 0.15);\n",
              "      fill: #174EA6;\n",
              "    }\n",
              "\n",
              "    .colab-df-buttons div {\n",
              "      margin-bottom: 4px;\n",
              "    }\n",
              "\n",
              "    [theme=dark] .colab-df-convert {\n",
              "      background-color: #3B4455;\n",
              "      fill: #D2E3FC;\n",
              "    }\n",
              "\n",
              "    [theme=dark] .colab-df-convert:hover {\n",
              "      background-color: #434B5C;\n",
              "      box-shadow: 0px 1px 3px 1px rgba(0, 0, 0, 0.15);\n",
              "      filter: drop-shadow(0px 1px 2px rgba(0, 0, 0, 0.3));\n",
              "      fill: #FFFFFF;\n",
              "    }\n",
              "  </style>\n",
              "\n",
              "    <script>\n",
              "      const buttonEl =\n",
              "        document.querySelector('#df-76ac6f4d-0273-4ca4-b523-af87b006da12 button.colab-df-convert');\n",
              "      buttonEl.style.display =\n",
              "        google.colab.kernel.accessAllowed ? 'block' : 'none';\n",
              "\n",
              "      async function convertToInteractive(key) {\n",
              "        const element = document.querySelector('#df-76ac6f4d-0273-4ca4-b523-af87b006da12');\n",
              "        const dataTable =\n",
              "          await google.colab.kernel.invokeFunction('convertToInteractive',\n",
              "                                                    [key], {});\n",
              "        if (!dataTable) return;\n",
              "\n",
              "        const docLinkHtml = 'Like what you see? Visit the ' +\n",
              "          '<a target=\"_blank\" href=https://colab.research.google.com/notebooks/data_table.ipynb>data table notebook</a>'\n",
              "          + ' to learn more about interactive tables.';\n",
              "        element.innerHTML = '';\n",
              "        dataTable['output_type'] = 'display_data';\n",
              "        await google.colab.output.renderOutput(dataTable, element);\n",
              "        const docLink = document.createElement('div');\n",
              "        docLink.innerHTML = docLinkHtml;\n",
              "        element.appendChild(docLink);\n",
              "      }\n",
              "    </script>\n",
              "  </div>\n",
              "\n",
              "\n",
              "<div id=\"df-eb0aaa89-1580-42ca-af5b-559d78ee4300\">\n",
              "  <button class=\"colab-df-quickchart\" onclick=\"quickchart('df-eb0aaa89-1580-42ca-af5b-559d78ee4300')\"\n",
              "            title=\"Suggest charts\"\n",
              "            style=\"display:none;\">\n",
              "\n",
              "<svg xmlns=\"http://www.w3.org/2000/svg\" height=\"24px\"viewBox=\"0 0 24 24\"\n",
              "     width=\"24px\">\n",
              "    <g>\n",
              "        <path d=\"M19 3H5c-1.1 0-2 .9-2 2v14c0 1.1.9 2 2 2h14c1.1 0 2-.9 2-2V5c0-1.1-.9-2-2-2zM9 17H7v-7h2v7zm4 0h-2V7h2v10zm4 0h-2v-4h2v4z\"/>\n",
              "    </g>\n",
              "</svg>\n",
              "  </button>\n",
              "\n",
              "<style>\n",
              "  .colab-df-quickchart {\n",
              "      --bg-color: #E8F0FE;\n",
              "      --fill-color: #1967D2;\n",
              "      --hover-bg-color: #E2EBFA;\n",
              "      --hover-fill-color: #174EA6;\n",
              "      --disabled-fill-color: #AAA;\n",
              "      --disabled-bg-color: #DDD;\n",
              "  }\n",
              "\n",
              "  [theme=dark] .colab-df-quickchart {\n",
              "      --bg-color: #3B4455;\n",
              "      --fill-color: #D2E3FC;\n",
              "      --hover-bg-color: #434B5C;\n",
              "      --hover-fill-color: #FFFFFF;\n",
              "      --disabled-bg-color: #3B4455;\n",
              "      --disabled-fill-color: #666;\n",
              "  }\n",
              "\n",
              "  .colab-df-quickchart {\n",
              "    background-color: var(--bg-color);\n",
              "    border: none;\n",
              "    border-radius: 50%;\n",
              "    cursor: pointer;\n",
              "    display: none;\n",
              "    fill: var(--fill-color);\n",
              "    height: 32px;\n",
              "    padding: 0;\n",
              "    width: 32px;\n",
              "  }\n",
              "\n",
              "  .colab-df-quickchart:hover {\n",
              "    background-color: var(--hover-bg-color);\n",
              "    box-shadow: 0 1px 2px rgba(60, 64, 67, 0.3), 0 1px 3px 1px rgba(60, 64, 67, 0.15);\n",
              "    fill: var(--button-hover-fill-color);\n",
              "  }\n",
              "\n",
              "  .colab-df-quickchart-complete:disabled,\n",
              "  .colab-df-quickchart-complete:disabled:hover {\n",
              "    background-color: var(--disabled-bg-color);\n",
              "    fill: var(--disabled-fill-color);\n",
              "    box-shadow: none;\n",
              "  }\n",
              "\n",
              "  .colab-df-spinner {\n",
              "    border: 2px solid var(--fill-color);\n",
              "    border-color: transparent;\n",
              "    border-bottom-color: var(--fill-color);\n",
              "    animation:\n",
              "      spin 1s steps(1) infinite;\n",
              "  }\n",
              "\n",
              "  @keyframes spin {\n",
              "    0% {\n",
              "      border-color: transparent;\n",
              "      border-bottom-color: var(--fill-color);\n",
              "      border-left-color: var(--fill-color);\n",
              "    }\n",
              "    20% {\n",
              "      border-color: transparent;\n",
              "      border-left-color: var(--fill-color);\n",
              "      border-top-color: var(--fill-color);\n",
              "    }\n",
              "    30% {\n",
              "      border-color: transparent;\n",
              "      border-left-color: var(--fill-color);\n",
              "      border-top-color: var(--fill-color);\n",
              "      border-right-color: var(--fill-color);\n",
              "    }\n",
              "    40% {\n",
              "      border-color: transparent;\n",
              "      border-right-color: var(--fill-color);\n",
              "      border-top-color: var(--fill-color);\n",
              "    }\n",
              "    60% {\n",
              "      border-color: transparent;\n",
              "      border-right-color: var(--fill-color);\n",
              "    }\n",
              "    80% {\n",
              "      border-color: transparent;\n",
              "      border-right-color: var(--fill-color);\n",
              "      border-bottom-color: var(--fill-color);\n",
              "    }\n",
              "    90% {\n",
              "      border-color: transparent;\n",
              "      border-bottom-color: var(--fill-color);\n",
              "    }\n",
              "  }\n",
              "</style>\n",
              "\n",
              "  <script>\n",
              "    async function quickchart(key) {\n",
              "      const quickchartButtonEl =\n",
              "        document.querySelector('#' + key + ' button');\n",
              "      quickchartButtonEl.disabled = true;  // To prevent multiple clicks.\n",
              "      quickchartButtonEl.classList.add('colab-df-spinner');\n",
              "      try {\n",
              "        const charts = await google.colab.kernel.invokeFunction(\n",
              "            'suggestCharts', [key], {});\n",
              "      } catch (error) {\n",
              "        console.error('Error during call to suggestCharts:', error);\n",
              "      }\n",
              "      quickchartButtonEl.classList.remove('colab-df-spinner');\n",
              "      quickchartButtonEl.classList.add('colab-df-quickchart-complete');\n",
              "    }\n",
              "    (() => {\n",
              "      let quickchartButtonEl =\n",
              "        document.querySelector('#df-eb0aaa89-1580-42ca-af5b-559d78ee4300 button');\n",
              "      quickchartButtonEl.style.display =\n",
              "        google.colab.kernel.accessAllowed ? 'block' : 'none';\n",
              "    })();\n",
              "  </script>\n",
              "</div>\n",
              "\n",
              "    </div>\n",
              "  </div>\n"
            ],
            "application/vnd.google.colaboratory.intrinsic+json": {
              "type": "dataframe",
              "variable_name": "df_train",
              "summary": "{\n  \"name\": \"df_train\",\n  \"rows\": 30000,\n  \"fields\": [\n    {\n      \"column\": \"text\",\n      \"properties\": {\n        \"dtype\": \"string\",\n        \"num_unique_values\": 27317,\n        \"samples\": [\n          \"A recent opinion poll carried out by NBC News/Wall Street Journal showed that 78 percent of Americans, a number that appears to still be growing, would prefer to see an independent commissioner or special prosecutor handle the investigation into Russia s interference in the 2016 US presidential election, while a mere 15 percent believe congress can handle any ongoing probe.Last week was more than just a turbulent time in Washington. President Trump fired FBI head James Comey on Tuesday, the man responsible for the investigation into Trump s Russian ties. This latest poll was conducted between Thursday, May 11 and Saturday, May 13, just days after Comey s ousting, among 800 adults and has an overall margin of error of plus or minus 3.5 percentage points. The firing of the FBI director was a major upheaval in the investigation process, and these poll results reflect the current climate not only around Capitol Hill, but what is a rapidly growing consensus across the nation.Since Comey s dismissal, Trump and several members of his administration have tried to downplay the need for an independent commission to continue what the FBI had begun; looking into questions of Russian interference in last year s election, as well as the possibility of members of Trump s campaign colluding with Moscow. In fact, on Saturday the President stated in no uncertain terms that the investigation should continue to progress in the House, the Senate, the FBI. According to the same poll, only 29 percent of Americans say they approve of Comey s firing, while 38 percent disapprove. Another 32 percent of respondents don t have enough to say on the matter, yet among those who say they have read, seen or heard  a lot  about the firing, 53 percent say they disapprove, versus 33 percent who approve. The poll also showed a partisan split when it comes to the topic of the president s decision, with 58 percent of Republicans approving while 66 percent of Democrats disapprove of the move. One thing that is clear, however, is that very few people surveyed had no opinion at all, with low single-digit responses.As a whole, Trump s approval rating has remained steady at 39 percent since last Tuesday, however, 30 percent of those surveyed claimed that their impression of the president is less favorable since his decision to remove James Comey, while 61 percent say the move hasn t impacted their impression of President Trump whatsoever.Featured image via Drew Angerer/Getty Images\",\n          \"Patrick Henningsen 21st Century WireMuch was made this week in the US media about Michael Flynn s recent guilty plea to making false statements to the FBI, as part of Special Counsel Robert Mueller s never-ending  Russia probe.  Beyond the political window dressing however, there s a much bigger and more profound story lingering in the background. Although court documents show Flynn has admitted to giving false statements in reference to his  reaching out  to Russia s ambassador to the US, Sergey Kislyak   the mere act of initiating contact with any foreign official is neither illegal nor is it a violation of ethics. Putting the current Red Scare aside, this would normally be viewed as standard statecraft for members of any incoming US administration. Even if Flynn had promised the Russian Ambassador, as claimed this week by Resistance leader Rep. Elijah E. Cummings of Maryland, that a Trump government would  rip-up sanctions,  such a promise by Flynn would not be unlawful. Anyone can make a promise, we should point out here that neither Flynn, nor Donald Trump would be in any position to make good on such a promise without the blessing of the US Congress and Senate. Just look at what happened when Trump took office. Were any sanctions lifted?That said, after 18 months of fabricating fake news about Russian hacking, Russian meddling and Russian collusion, it s not surprising that the New York Times would get the Flynn story wrong too, and on an even bigger scale than many of their past made-up stories about Trump scandals. Here we have yet another hand-wringing Resistance writer, Harry Litman, claiming that Flynn s testimony will go down in history next to Watergate and Iran-Contra: The repercussions of the plea will be months in the making, but it s not an exaggeration to say that the events to which Mr. Flynn has agreed to testify will take their place in the history books alongside the Watergate and Iran-contra scandals. He might be right, if only the media coverage and the federal hearing would focus on the correct country with whom the Trump team was colluding, which unfortunately was not Russia. Funny how partisan writer Litman did not even mention the word Israel once in his report. Perhaps this is why certain persons in Washington like Adam Schiff, Chuck Schumer, John McCain and others, along with their corrupt media counterparts like CNN, the Washington Post and the New York Times have been incessantly pushing their fictional  Russia did it  narrative for the last 18 months   because Russiagate serves as a convenient overlay for Israelgate.Mehdi Hassan from The Intercept writes:  Why aren t more members of Congress or the media discussing the Trump transition team s pretty brazen collusion with Israeli Prime Minister Benjamin Netanyahu to undermine both U.S. government policy and international law? Shouldn t that be treated as a major scandal? Thanks to Mueller s ongoing investigation, we now know that prior to President Donald Trump s inauguration, members of his inner circle went to bat on behalf of Israel, and specifically on behalf of illegal Israeli settlements in the occupied Palestinian territories, behind the scenes and in opposition to official U.S. foreign policy. That s the kind of collusion with a foreign state that has gotten a lot of attention with respect to the Kremlin   but colluding with Israel seems to be of far less interest, strangely. Yes, you heard that right. This was at minimum collusion with Israel. But it goes much deeper than that. If this story is accurate, and we have every reason to believe it is (especially by the large silence in the American media, usually a positive indication of media avoidance), this would indicate that the then President-elect s close advisor and son-in-law, Jared Kushner, was clearly acting as a foreign agent   on behalf of the state of Israel. The fact the US media are not taking this story more seriously should serve as a reminder as to how much power the Israeli Lobby wields in the US, not just over politicians, but over mainstream media as well. Granted, this is a very serious charge   which comes with some serious consequences if Kushner would ever be indicted, but the facts clearly demonstrate beyond any reasonable doubt, that then President-elect s son-in-law was using his proximity to the incoming Commander and Chief to execute a series of highly sensitive foreign policy maneuvers at the request of a foreign country.The history of Israeli spying and outright meddling in US affairs is no secret to anyone willing to research it (unofficially a forbidden topic in US mainstream media), but this latest episode with Trump and Kushner is even more disturbing considering this week s controversial East Jerusalem announcement (21WIRE warned about an East Jerusalem provocation 12 months ago).Beyond this, many will argue that the radical fundamentalist Zionist agenda which Kushner is aggressively pursuing on behalf of Tel Aviv is not in the interest of the wider Middle East, nor is it good for America s European partners, and may even contribute to a further destablization of the region   as evidenced by recent violence which has erupted following Trump s provocative move. The result is not necessarily in America s interests, even if it is certainly in Israel s interests.Author Mehdi Hassan continues:Here s what we learned last week when Mueller s team unveiled its plea deal with Trump s former national security adviser, retired Gen. Michael Flynn. In December 2016, the United Nations Security Council was debating a draft resolution that condemned Israeli settlement expansion in the occupied territories as a  flagrant violation under international law  that was  dangerously imperiling the viability  of an independent Palestinian state.The Obama administration had made it clear that the U.S. was planning to abstain on the resolution, while noting that  the settlements have no legal validity  and observing how  the settlement problem has gotten so much worse that it is now putting at risk the   two-state solution.  (Rhetorically, at least, U.S. opposition to Israeli settlements has been a long-standing and bipartisan position for decades: Ronald Reagan called for  a real settlement freeze  in 1982 while George H.W. Bush tried to curb Israeli settlement-building plans by briefly cutting off U.S. loan guarantees to the Jewish state in 1991.)Everyone expected that the upcoming UN vote on illegal Israeli settlements was going to be a divisive issue, but with only weeks before Trump s fast approaching inauguration, Israel had its trojan horse in position. Hassan goes on to explain Tel Aviv s covert mechanism for manipulating the UN vote: On or about December 22, 2016, a very senior member of the Presidential Transition Team directed Flynn to contact officials from foreign governments, including Russia, to learn where each government stood on the resolution and to influence those governments to delay the vote or defeat the resolution,  reads the statement of offense against Flynn, who pleaded guilty to lying to the FBI about his conversations with the Russian ambassador to the U.S.  On or about December 22, 2016, Flynn contacted the Russian Ambassador about the pending vote. Flynn informed the Russian Ambassador about the incoming administration s opposition to the resolution, and requested that Russia vote against or delay the resolution. BFFs: Donald Trump talks to his chief foreign policy advisor, Israeli president Benjamin Netanyahu.So who was this very senior member of Trump s team who sought to execute orders from the office of Israeli President Benjamin Netanyahu? Hassan explains:Who was the  very senior member  of the transition team who  directed  Flynn to do all this? Multiple news outlets have confirmed that it was Jared Kushner, Trump s son-in-law and main point man on the Middle East peace process.  Jared called Flynn and told him you need to get on the phone to every member of the Security Council and tell them to delay the vote,  a Trump transition official revealed to BuzzFeed News on Friday, adding that Kushner told Flynn  this was a top priority for the president. According to BuzzFeed:  After hanging up, Flynn told the entire room [at the Trump transition team HQ] that they d have to start pushing to lobby against the U.N. vote, saying  the president wants this done ASAP.  Flynn s guilty plea, BuzzFeed continued, revealed  for the first time how Trump transition officials solicited Russia s help to head off the UN vote and undermine the Obama administration s policy on Middle East peace before ever setting foot in the White House. Even during the height of the Neocon era, with multiple Israeli loyalists in the cabinet (including some dual passport holders) shaping White House Middle East policy   ultimately into a ditch with Iraq, the level of manipulation wasn t this overt. Trump s decision to reverse successive US administrations  new policy on East Jerusalem is inconceivable, if not for some other x-factor which the PNAC-dominated George W. Bush could not even manage.The facts of the case against Kushner have not been contested, and in fact Kushner has even been gloating out on the speaking circuit, with his doting wife Ivanka proudly advertizing her husband s  accomplishment  on behalf Israel.My husband, Jared Kushner, had a great conversation on the Middle East with Haim Saban today at the Saban Forum. #Saban17https://t.co/BUbGfd1YNr  Ivanka Trump (@IvankaTrump) December 4, 2017 None of this has been contested. In fact, on Sunday, Kushner made a rare public appearance at the Saban Forum in Washington, D.C., to discuss the Trump administration s plans for the Middle East and was welcomed by the forum s sponsor, the Israeli-American billionaire Haim Saban, who said he  personally wanted to thank  Kushner for  taking steps to try and get the United Nations Security Council to not go along with what ended up being an abstention by the U.S.  Kushner s response? The first son-in-law smiled, nodded, and mouthed  thank you  to Saban.Meanwhile, the Israelis have been pretty forthcoming about their own role in all of this, too. On Monday, Ron Dermer, Israel s ambassador to the U.S. and a close friend and ally of Netanyahu, told Politico s Susan Glasser that, in December 2016,  obviously we reached out to [the Trump transition team] in the hope that they would help us,  and  we were hopeful that they would speak  to other governments  in order to prevent this vote from happening. Got that? The Trump transition team   in the form of key Trump advisers Kushner and Flynn   reached out to the Russian government in order to undermine the U.S. government because the Israeli government asked them to. According to these reports, Kushner was using his position in the transition team to act on Israel s behalf   outside of any governmental framework of accountability. If Flynn inadvertently found himself in a Russian trap, it was because Israel and its in-house operative demanded it.If Flynn is guilty of anything, it would be going along with Kushner s Israel First scheme ahead of the United Nations vote. What is odd though, is why the entire US mainstream media is not interested in this part of the story. Even the Never Trump  Resistance  seem to be afraid of taking this narrative on. I guess even the Resistance has its limits. Rather than go for a case where the evidence is sitting right there on a silver salver, instead they will go for the Russian conspiracy theory. Alas, old habits die hard.SEE ALSO: The Genealogy of Trump s U-Turn on PalestineThis series of events is all the more pertinent when considering this week s announcement by President Trump that the US is to recognize Jerusalem as the capital of Israel, and will be moving its embassy from Tel Aviv to East Jerusalem. Many are already calling this  the kiss of death  to the Israel-Palestine peace process. In a predictable succession of events, the Jerusalem provocation was a fait accompli after Trump had announced in October that the US would be withdrawing from support for UNESCO, the UN body which is meant to help maintain the neutrality of Jerusalem as an internationally protected area. The Trump administration justified its resignation from the key UN agency on the grounds that it is  biased against Israel.  But the neutrality of Jerusalem is an essential policy for maintaining peace in a less than ideal situation with Palestine still under a brutal military occupation by an illegitimate and illegal (by international law and successive UN Resolutions) Israeli jackboot.In addition to all this, this past summer the United States announced the establishment of a permanent military installation inside of Israel. What s scary is how many people do not know this has happened.So Trump s  minence grise, the wunderkind, who some people have called the President In-Law, is really Israel s man inside the White House.Landed on his feet:  President In-law  Jared Kushner.So what exactly are Jared Kushner s credentials in international relations and diplomacy that he has been charged with negotiating Middle East affairs for the United States of America? Without sounding too cruel here, it s difficult to find anything to say in his defense. In the end, his only visible qualification is that he s married to the President s daughter, and that s he s  a good friend  of Netanyahu. That s really it.Credit where credit s due though. Aside from marrying into the dynasty, Kushner is also the former owner of a mediocre website, The New York Observer, and has also managed to parlay his family status to help finance a number of high-profile New York City property deals with foreign buyers (no doubt with the help of his father-in-law).Isn t that what Kushner is doing right now   using his inherited clout to help  close friend  Benjamin Netanyahu broker property deals (highly illegal by international law) in the Middle East, only this time with his Uncle Sam acting as the guarantor? It certainly looks that way. The question is, will anyone in the US do anything about it?When this latest episode of hubris by the White House and Israel eventually unravels, the public and the media might then turn on Kushner and Trump, but by then the damage will have already been done.Meanwhile, men like Jake Tapper and Wolf Blitzer will still be chasing those illusive Russian hackers clear into the 2020 election cycle, which is probably a stupid move for the Resistance, but if the last 18 months have taught us anything it s that there isn t much clear thinking going on in that corner of the galaxy.Until then, Netanyahu can feel safe in the knowledge that Israel, not Washington, is currently in control of US foreign policy.One final note to the brave Never-Trump Resistance: if a foreign state actor is blackmailing this President or the White House, it s probably not Russia.*** Author Patrick Henningsen is an American writer and global affairs analyst and founder of independent news and analysis site 21st Century Wire, and is host of the SUNDAY WIRE weekly radio show broadcast globally over the Alternate Current Radio Network (ACR). He has written for a number of international publications and has done extensive on-the-ground reporting of the conflict Syria, Iraq and the Middle East.READ MORE ISRAEL NEWS AT: 21st Century Wire Israel FilesSUPPORT 21WIRE  SUBSCRIBE NOW & BECOME A MEMBER @21WIRE.TV\",\n          \"President Donald Trump, striving to make good on a top campaign promise, is pushing his fellow Republicans who control Congress to pass revamped healthcare legislation but the same intraparty squabbling that torpedoed it last month could do it again. Trump is looking for his first major legislative victory since taking office in January. House of Representatives Republicans are exploring compromises aimed at satisfying the party\\u2019s most conservative members without antagonizing its moderates, but it remained unclear on Friday whether a viable bill would emerge. Trump on Friday played down the need for Congress to act on the legislation before he reaches his 100th day in office next weekend, telling reporters, \\u201cWe\\u2019ll see what happens - no particular rush.\\u201d Trump on Thursday had predicted \\u201ca good chance of getting it soon,\\u201d either \\u201cnext week or shortly thereafter.\\u201d On Friday, he said it \\u201cdoesn\\u2019t matter if it\\u2019s next week.\\u201d Congress, returning from a recess next week, also will be working against the clock to pass legislation to keep the government funded past April 28 and avert a federal shutdown. Healthcare legislation did not appear on the schedule released on Friday by House Republican leaders of bills to be considered next week. \\u201cWe\\u2019re going to get it done when it\\u2019s appropriate in terms of getting to that 216,\\u201d White House spokesman Sean Spicer told reporters, referring to the vote total needed for House passage before the bill goes to the Senate. Trump\\u2019s party cannot afford defections because Democrats remain unified against the Republican quest to repeal and replace the Affordable Care Act, Democratic former President Barack Obama\\u2019s signature domestic policy achievement, dubbed Obamacare. Trump campaigned on a pledge to discard Obamacare. In a stinging setback for Trump, Speaker Paul Ryan pulled the legislation from the House floor on March 24 before allowing it to come to a vote amid a revolt by conservatives in a faction called the House Freedom Caucus and moderates unhappy with concessions to the conservatives. Republicans have called Obamacare a government overreach. The law enabled 20 million Americans to obtain insurance, many through an expansion of the Medicaid program for the poor. A senior House Republican aide said it was not clear whether a revamped Republican plan can attract 216 votes, adding that without a legislative text it was impossible to do a vote count to assess its chances. Moderate Republican Representative Tom MacArthur is pushing a proposal to allow states to waive some Obamacare provisions. MacArthur\\u2019s office said he has discussed it with other Republican lawmakers, the House leadership and the White House. No text has emerged, but an outline of his proposal said states could seek to relax \\u201cessential benefits\\u201d that Obamacare requires insurance plans to cover, such as emergency room trips, maternity and newborn care, and mental health services. States also could request waivers to Obamacare\\u2019s ban on insurers charging sick customers higher premiums than healthy customers. But states would have to establish \\u201chigh-risk pools\\u201d using government funds to help pay for insurance for people with costly medical conditions. Representative Rodney Davis told CNN on Friday he did not know what was in the deal, but added, \\u201cI\\u2019m not going to be for a plan that is going to allow for pre-existing conditions to not be covered.\\u201d MacArthur and Davis are members of the centrist House Republican Tuesday Group. Freedom Caucus member Representative Dave Brat told CNN the new proposal gives states more say healthcare but was the \\u201csame fundamental bill\\u201d that collapsed last month. The Republican plan, as written last month, would end the Medicaid expansion, let states impose work requirements on some Medicaid recipients, rescind a range of Obamacare taxes, get rid of a penalty on people who refuse to obtain insurance, and ditch Obamacare\\u2019s income-based subsidies to help people buy insurance while creating less-generous age-based tax credits. The nonpartisan Congressional Budget Office forecast the earlier version of the plan would increase by 24 million the number of Americans without medical insurance by 2026. During a Thursday conference call with House Democrats, their leader, Nancy Pelosi, urged them to remain united against the Republican legislation, saying it would increase healthcare costs and provide less insurance coverage, an aide who was on the telephone call said.\"\n        ],\n        \"semantic_type\": \"\",\n        \"description\": \"\"\n      }\n    },\n    {\n      \"column\": \"label\",\n      \"properties\": {\n        \"dtype\": \"number\",\n        \"std\": 0,\n        \"min\": 0,\n        \"max\": 1,\n        \"num_unique_values\": 2,\n        \"samples\": [\n          0,\n          1\n        ],\n        \"semantic_type\": \"\",\n        \"description\": \"\"\n      }\n    }\n  ]\n}"
            }
          },
          "metadata": {},
          "execution_count": 13
        }
      ]
    },
    {
      "cell_type": "markdown",
      "source": [
        "# **Preprocessing Text**\n",
        "# Creating a function to convert the text in lowercase, remove the extra space, special chr., ulr and links.\n"
      ],
      "metadata": {
        "id": "Pxt5oG8piC03"
      }
    },
    {
      "cell_type": "code",
      "source": [
        "def wordopt(text):\n",
        "    text = text.lower()\n",
        "    text = re.sub('\\[.*?\\]','',text)\n",
        "    text = re.sub(\"\\\\W\",\" \",text)\n",
        "    text = re.sub('https?://\\S+|www\\.\\S+','',text)\n",
        "    text = re.sub('<.*?>+',b'',text)\n",
        "    text = re.sub('[%s]' % re.escape(string.punctuation),'',text)\n",
        "    text = re.sub('\\w*\\d\\w*','',text)\n",
        "    return text"
      ],
      "metadata": {
        "id": "UvYRKuF8h8QD"
      },
      "execution_count": 14,
      "outputs": []
    },
    {
      "cell_type": "code",
      "source": [
        "df_train['text'] = df_train['text'].apply(wordopt)\n"
      ],
      "metadata": {
        "id": "juw_KowsiIZN"
      },
      "execution_count": 15,
      "outputs": []
    },
    {
      "cell_type": "code",
      "source": [
        "df_test['text'] = df_test['text'].apply(wordopt)"
      ],
      "metadata": {
        "id": "_UgEiXSRjwW_"
      },
      "execution_count": 25,
      "outputs": []
    },
    {
      "cell_type": "code",
      "source": [
        "df_train.head()"
      ],
      "metadata": {
        "colab": {
          "base_uri": "https://localhost:8080/",
          "height": 201
        },
        "id": "6zLlXSfjij1Q",
        "outputId": "08a6c817-a9f3-41b2-8308-c6585c0d1a0c"
      },
      "execution_count": 16,
      "outputs": [
        {
          "output_type": "execute_result",
          "data": {
            "text/plain": [
              "                                                text  label\n",
              "0  former cia director john brennan on friday cri...      1\n",
              "1  how did this man come to own this store  there...      0\n",
              "2  president donald trump on thursday tapped fede...      1\n",
              "3  hillary clinton ally david brock is offering t...      0\n",
              "4  pleading ignorance is a perfect ploy for nancy...      0"
            ],
            "text/html": [
              "\n",
              "  <div id=\"df-f448d13a-4ec0-45bc-a1da-ec9acca1b3b2\" class=\"colab-df-container\">\n",
              "    <div>\n",
              "<style scoped>\n",
              "    .dataframe tbody tr th:only-of-type {\n",
              "        vertical-align: middle;\n",
              "    }\n",
              "\n",
              "    .dataframe tbody tr th {\n",
              "        vertical-align: top;\n",
              "    }\n",
              "\n",
              "    .dataframe thead th {\n",
              "        text-align: right;\n",
              "    }\n",
              "</style>\n",
              "<table border=\"1\" class=\"dataframe\">\n",
              "  <thead>\n",
              "    <tr style=\"text-align: right;\">\n",
              "      <th></th>\n",
              "      <th>text</th>\n",
              "      <th>label</th>\n",
              "    </tr>\n",
              "  </thead>\n",
              "  <tbody>\n",
              "    <tr>\n",
              "      <th>0</th>\n",
              "      <td>former cia director john brennan on friday cri...</td>\n",
              "      <td>1</td>\n",
              "    </tr>\n",
              "    <tr>\n",
              "      <th>1</th>\n",
              "      <td>how did this man come to own this store  there...</td>\n",
              "      <td>0</td>\n",
              "    </tr>\n",
              "    <tr>\n",
              "      <th>2</th>\n",
              "      <td>president donald trump on thursday tapped fede...</td>\n",
              "      <td>1</td>\n",
              "    </tr>\n",
              "    <tr>\n",
              "      <th>3</th>\n",
              "      <td>hillary clinton ally david brock is offering t...</td>\n",
              "      <td>0</td>\n",
              "    </tr>\n",
              "    <tr>\n",
              "      <th>4</th>\n",
              "      <td>pleading ignorance is a perfect ploy for nancy...</td>\n",
              "      <td>0</td>\n",
              "    </tr>\n",
              "  </tbody>\n",
              "</table>\n",
              "</div>\n",
              "    <div class=\"colab-df-buttons\">\n",
              "\n",
              "  <div class=\"colab-df-container\">\n",
              "    <button class=\"colab-df-convert\" onclick=\"convertToInteractive('df-f448d13a-4ec0-45bc-a1da-ec9acca1b3b2')\"\n",
              "            title=\"Convert this dataframe to an interactive table.\"\n",
              "            style=\"display:none;\">\n",
              "\n",
              "  <svg xmlns=\"http://www.w3.org/2000/svg\" height=\"24px\" viewBox=\"0 -960 960 960\">\n",
              "    <path d=\"M120-120v-720h720v720H120Zm60-500h600v-160H180v160Zm220 220h160v-160H400v160Zm0 220h160v-160H400v160ZM180-400h160v-160H180v160Zm440 0h160v-160H620v160ZM180-180h160v-160H180v160Zm440 0h160v-160H620v160Z\"/>\n",
              "  </svg>\n",
              "    </button>\n",
              "\n",
              "  <style>\n",
              "    .colab-df-container {\n",
              "      display:flex;\n",
              "      gap: 12px;\n",
              "    }\n",
              "\n",
              "    .colab-df-convert {\n",
              "      background-color: #E8F0FE;\n",
              "      border: none;\n",
              "      border-radius: 50%;\n",
              "      cursor: pointer;\n",
              "      display: none;\n",
              "      fill: #1967D2;\n",
              "      height: 32px;\n",
              "      padding: 0 0 0 0;\n",
              "      width: 32px;\n",
              "    }\n",
              "\n",
              "    .colab-df-convert:hover {\n",
              "      background-color: #E2EBFA;\n",
              "      box-shadow: 0px 1px 2px rgba(60, 64, 67, 0.3), 0px 1px 3px 1px rgba(60, 64, 67, 0.15);\n",
              "      fill: #174EA6;\n",
              "    }\n",
              "\n",
              "    .colab-df-buttons div {\n",
              "      margin-bottom: 4px;\n",
              "    }\n",
              "\n",
              "    [theme=dark] .colab-df-convert {\n",
              "      background-color: #3B4455;\n",
              "      fill: #D2E3FC;\n",
              "    }\n",
              "\n",
              "    [theme=dark] .colab-df-convert:hover {\n",
              "      background-color: #434B5C;\n",
              "      box-shadow: 0px 1px 3px 1px rgba(0, 0, 0, 0.15);\n",
              "      filter: drop-shadow(0px 1px 2px rgba(0, 0, 0, 0.3));\n",
              "      fill: #FFFFFF;\n",
              "    }\n",
              "  </style>\n",
              "\n",
              "    <script>\n",
              "      const buttonEl =\n",
              "        document.querySelector('#df-f448d13a-4ec0-45bc-a1da-ec9acca1b3b2 button.colab-df-convert');\n",
              "      buttonEl.style.display =\n",
              "        google.colab.kernel.accessAllowed ? 'block' : 'none';\n",
              "\n",
              "      async function convertToInteractive(key) {\n",
              "        const element = document.querySelector('#df-f448d13a-4ec0-45bc-a1da-ec9acca1b3b2');\n",
              "        const dataTable =\n",
              "          await google.colab.kernel.invokeFunction('convertToInteractive',\n",
              "                                                    [key], {});\n",
              "        if (!dataTable) return;\n",
              "\n",
              "        const docLinkHtml = 'Like what you see? Visit the ' +\n",
              "          '<a target=\"_blank\" href=https://colab.research.google.com/notebooks/data_table.ipynb>data table notebook</a>'\n",
              "          + ' to learn more about interactive tables.';\n",
              "        element.innerHTML = '';\n",
              "        dataTable['output_type'] = 'display_data';\n",
              "        await google.colab.output.renderOutput(dataTable, element);\n",
              "        const docLink = document.createElement('div');\n",
              "        docLink.innerHTML = docLinkHtml;\n",
              "        element.appendChild(docLink);\n",
              "      }\n",
              "    </script>\n",
              "  </div>\n",
              "\n",
              "\n",
              "<div id=\"df-4df7e189-cfe9-42d7-86f5-d20f61ca9b6c\">\n",
              "  <button class=\"colab-df-quickchart\" onclick=\"quickchart('df-4df7e189-cfe9-42d7-86f5-d20f61ca9b6c')\"\n",
              "            title=\"Suggest charts\"\n",
              "            style=\"display:none;\">\n",
              "\n",
              "<svg xmlns=\"http://www.w3.org/2000/svg\" height=\"24px\"viewBox=\"0 0 24 24\"\n",
              "     width=\"24px\">\n",
              "    <g>\n",
              "        <path d=\"M19 3H5c-1.1 0-2 .9-2 2v14c0 1.1.9 2 2 2h14c1.1 0 2-.9 2-2V5c0-1.1-.9-2-2-2zM9 17H7v-7h2v7zm4 0h-2V7h2v10zm4 0h-2v-4h2v4z\"/>\n",
              "    </g>\n",
              "</svg>\n",
              "  </button>\n",
              "\n",
              "<style>\n",
              "  .colab-df-quickchart {\n",
              "      --bg-color: #E8F0FE;\n",
              "      --fill-color: #1967D2;\n",
              "      --hover-bg-color: #E2EBFA;\n",
              "      --hover-fill-color: #174EA6;\n",
              "      --disabled-fill-color: #AAA;\n",
              "      --disabled-bg-color: #DDD;\n",
              "  }\n",
              "\n",
              "  [theme=dark] .colab-df-quickchart {\n",
              "      --bg-color: #3B4455;\n",
              "      --fill-color: #D2E3FC;\n",
              "      --hover-bg-color: #434B5C;\n",
              "      --hover-fill-color: #FFFFFF;\n",
              "      --disabled-bg-color: #3B4455;\n",
              "      --disabled-fill-color: #666;\n",
              "  }\n",
              "\n",
              "  .colab-df-quickchart {\n",
              "    background-color: var(--bg-color);\n",
              "    border: none;\n",
              "    border-radius: 50%;\n",
              "    cursor: pointer;\n",
              "    display: none;\n",
              "    fill: var(--fill-color);\n",
              "    height: 32px;\n",
              "    padding: 0;\n",
              "    width: 32px;\n",
              "  }\n",
              "\n",
              "  .colab-df-quickchart:hover {\n",
              "    background-color: var(--hover-bg-color);\n",
              "    box-shadow: 0 1px 2px rgba(60, 64, 67, 0.3), 0 1px 3px 1px rgba(60, 64, 67, 0.15);\n",
              "    fill: var(--button-hover-fill-color);\n",
              "  }\n",
              "\n",
              "  .colab-df-quickchart-complete:disabled,\n",
              "  .colab-df-quickchart-complete:disabled:hover {\n",
              "    background-color: var(--disabled-bg-color);\n",
              "    fill: var(--disabled-fill-color);\n",
              "    box-shadow: none;\n",
              "  }\n",
              "\n",
              "  .colab-df-spinner {\n",
              "    border: 2px solid var(--fill-color);\n",
              "    border-color: transparent;\n",
              "    border-bottom-color: var(--fill-color);\n",
              "    animation:\n",
              "      spin 1s steps(1) infinite;\n",
              "  }\n",
              "\n",
              "  @keyframes spin {\n",
              "    0% {\n",
              "      border-color: transparent;\n",
              "      border-bottom-color: var(--fill-color);\n",
              "      border-left-color: var(--fill-color);\n",
              "    }\n",
              "    20% {\n",
              "      border-color: transparent;\n",
              "      border-left-color: var(--fill-color);\n",
              "      border-top-color: var(--fill-color);\n",
              "    }\n",
              "    30% {\n",
              "      border-color: transparent;\n",
              "      border-left-color: var(--fill-color);\n",
              "      border-top-color: var(--fill-color);\n",
              "      border-right-color: var(--fill-color);\n",
              "    }\n",
              "    40% {\n",
              "      border-color: transparent;\n",
              "      border-right-color: var(--fill-color);\n",
              "      border-top-color: var(--fill-color);\n",
              "    }\n",
              "    60% {\n",
              "      border-color: transparent;\n",
              "      border-right-color: var(--fill-color);\n",
              "    }\n",
              "    80% {\n",
              "      border-color: transparent;\n",
              "      border-right-color: var(--fill-color);\n",
              "      border-bottom-color: var(--fill-color);\n",
              "    }\n",
              "    90% {\n",
              "      border-color: transparent;\n",
              "      border-bottom-color: var(--fill-color);\n",
              "    }\n",
              "  }\n",
              "</style>\n",
              "\n",
              "  <script>\n",
              "    async function quickchart(key) {\n",
              "      const quickchartButtonEl =\n",
              "        document.querySelector('#' + key + ' button');\n",
              "      quickchartButtonEl.disabled = true;  // To prevent multiple clicks.\n",
              "      quickchartButtonEl.classList.add('colab-df-spinner');\n",
              "      try {\n",
              "        const charts = await google.colab.kernel.invokeFunction(\n",
              "            'suggestCharts', [key], {});\n",
              "      } catch (error) {\n",
              "        console.error('Error during call to suggestCharts:', error);\n",
              "      }\n",
              "      quickchartButtonEl.classList.remove('colab-df-spinner');\n",
              "      quickchartButtonEl.classList.add('colab-df-quickchart-complete');\n",
              "    }\n",
              "    (() => {\n",
              "      let quickchartButtonEl =\n",
              "        document.querySelector('#df-4df7e189-cfe9-42d7-86f5-d20f61ca9b6c button');\n",
              "      quickchartButtonEl.style.display =\n",
              "        google.colab.kernel.accessAllowed ? 'block' : 'none';\n",
              "    })();\n",
              "  </script>\n",
              "</div>\n",
              "\n",
              "    </div>\n",
              "  </div>\n"
            ],
            "application/vnd.google.colaboratory.intrinsic+json": {
              "type": "dataframe",
              "variable_name": "df_train",
              "summary": "{\n  \"name\": \"df_train\",\n  \"rows\": 30000,\n  \"fields\": [\n    {\n      \"column\": \"text\",\n      \"properties\": {\n        \"dtype\": \"string\",\n        \"num_unique_values\": 27206,\n        \"samples\": [\n          \"if there was ever any doubt that vladimir putin orchestrated a complex attack on our democracy with the express goal of getting donald trump elected  that s gone now recent reports have indicated that russian hackers managed to breach voter databases and   this is important   alter data as well as steal the information of nearly   voters in illinois alone  the stolen data included drivers license numbers  social security numbers  and other important sensitive information but it goes much farther than efforts to undermine americans  confidence in our electoral system  the washington post reports that the cia captured putin s  specific instructions  to install donald trump in the oval office inside was an intelligence bombshell  a report drawn from sourcing deep inside the russian government that detailed russian president vladi mir putin s direct involvement in a cyber campaign to disrupt and discredit the u s  presidential race but it went further  the intelligence captured putin s specific instructions on the operation s audacious objectives   defeat or at least damage the democratic nominee  hillary clinton  and help elect her opponent  donald trump at that point  the outlines of the russian assault on the u s  election were increasingly apparent  hackers with ties to russian intelligence services had been rummaging through democratic party computer networks  as well as some republican systems  for more than a year  in july  the fbi had opened an investigation of contacts between russian officials and trump associates  and on july   nearly   emails stolen from the democratic national committee were dumped online by wikileaks at this point  it is clear that donald trump   given his repeated attempts to distract from  interfere with  and dismiss the investigation   worked with vladimir putin in some capacity to undermine our democracy the only question that remains is when will republicans  grow a pair  and impeach the orange traitor read the full report here featured image via getty images\",\n          \"hillary clinton was wrong to say that half of donald trump s supporters are deplorable  because it s more like  percent  says keith olbermann as you may already know  the former msnbc host is back with a brand new gig just in time for the election and he is not holding back on thursday  gq s special political correspondent laid on the smack down on the republican nominee for whining about hillary s remark while simultaneously wearing it like a badge of honor beginning by noting how mike pence refuses to even call racist ku klux klan leader david duke a deplorable person  olbermann soon mocked trump for deciding that he should release his medical records to dr  oz  because doctor who is not filming locally  of course  trump chickened out at the last minute and decided not to release his records getting back to trump s deplorables  olbermann mentioned the pair of violent episodes seen at trump rallies recently  one in which a trump supporter grabbed a man by his neck and punched him and another in which a trump supporter decked a  year old woman and sent her crashing into her oxygen tank olbermann pointed out that it s still a kinder and gentler crowd because trump s supporters  aren t all wearing the same colored shirts yet  olbermann then went through hillary s list of trump s deplorable supporters  which includes racists  sexists  homophobes  islamophobes  and xenophobes  he named names like carl paladino and robert jeffress and aired what they have said about black people  gays  and muslims  these are campaign leaders  surrogates  friends of mr  trump   olbermann said   if they re not talking to a basket full of deplorables  who are they talking to  why would you have them there  you say stuff like that at work  you get fired  but trump welcomes those who hate and is just fine with them spewing their hate out loud in the end  olbermann slammed every trump supporter  including those who are not racist  sexist  etc if you support trump  if you think he should be president regardless of how much he and his advocates hate and mock and punch old women with portable oxygen canisters  if you re not condemning this madness and repudiating these deplorable people and you are not racist  not sexist  not homophobic  not xenophobic  or not islamophobic  if you re supporting him not for those things but in spite of them  you are even more deplorable  the correct number  secretary clinton  is not  percent  it s   here s the video via youtube it s so good to have keith olbermann back featured image via screen capture\",\n          \"the russian foreign ministry said on wednesday that deputy foreign minister gennady gatilov had held talks with china s ambassador to russia li hui about moscow and beijing coordinating action on north korea at the u n  security council  the officials exchanged views on  joint steps   the ministry said in a statement \"\n        ],\n        \"semantic_type\": \"\",\n        \"description\": \"\"\n      }\n    },\n    {\n      \"column\": \"label\",\n      \"properties\": {\n        \"dtype\": \"number\",\n        \"std\": 0,\n        \"min\": 0,\n        \"max\": 1,\n        \"num_unique_values\": 2,\n        \"samples\": [\n          0,\n          1\n        ],\n        \"semantic_type\": \"\",\n        \"description\": \"\"\n      }\n    }\n  ]\n}"
            }
          },
          "metadata": {},
          "execution_count": 16
        }
      ]
    },
    {
      "cell_type": "markdown",
      "source": [
        "# **Tokenization**"
      ],
      "metadata": {
        "id": "jnGy30P4kHnd"
      }
    },
    {
      "cell_type": "code",
      "source": [
        "x_train = df_train['text']  # Features for training\n",
        "y_train = df_train['label']  # Labels for training\n",
        "x_test = df_test['text']     # Features for testing\n",
        "y_test = df_test['label']     # Labels for testing"
      ],
      "metadata": {
        "id": "RMptLpmkirIX"
      },
      "execution_count": 26,
      "outputs": []
    },
    {
      "cell_type": "code",
      "source": [
        "from sklearn.feature_extraction.text import TfidfVectorizer\n",
        "\n",
        "# Creating an instance of TfidfVectorizer\n",
        "vectorization = TfidfVectorizer()\n",
        "\n",
        "# Fitting the vectorizer on the training data and transforming it into TF-IDF vectors\n",
        "xv_train = vectorization.fit_transform(x_train)\n",
        "\n",
        "# Transforming the test data into TF-IDF vectors\n",
        "xv_test = vectorization.transform(x_test)"
      ],
      "metadata": {
        "id": "Xeyw6x4fj2By"
      },
      "execution_count": 27,
      "outputs": []
    },
    {
      "cell_type": "markdown",
      "source": [
        "# Decision trees"
      ],
      "metadata": {
        "id": "KQgfq2ARpuh1"
      }
    },
    {
      "cell_type": "code",
      "source": [
        "from sklearn.tree import DecisionTreeClassifier\n",
        "from sklearn.metrics import classification_report\n",
        "\n",
        "# Initialize the Decision Tree Classifier\n",
        "DT = DecisionTreeClassifier()\n",
        "\n",
        "# Fit the model on the training data\n",
        "DT.fit(xv_train, y_train)\n",
        "\n",
        "# Make predictions on the test set\n",
        "pred_dt = DT.predict(xv_test)\n",
        "\n",
        "# Accuracy score\n",
        "accuracy = DT.score(xv_test, y_test)\n",
        "print(f'Accuracy: {accuracy}')\n",
        "\n",
        "# Classification report for the predictions\n",
        "print(classification_report(y_test, pred_dt))\n"
      ],
      "metadata": {
        "colab": {
          "base_uri": "https://localhost:8080/"
        },
        "id": "Q_KOKPcNpWMX",
        "outputId": "eaa34a3f-211a-4e1c-9c30-112b7a08bbae"
      },
      "execution_count": 28,
      "outputs": [
        {
          "output_type": "stream",
          "name": "stdout",
          "text": [
            "Accuracy: 0.9483488569009314\n",
            "              precision    recall  f1-score   support\n",
            "\n",
            "           0       0.94      0.96      0.95      4284\n",
            "           1       0.96      0.94      0.95      3983\n",
            "\n",
            "    accuracy                           0.95      8267\n",
            "   macro avg       0.95      0.95      0.95      8267\n",
            "weighted avg       0.95      0.95      0.95      8267\n",
            "\n"
          ]
        }
      ]
    },
    {
      "cell_type": "markdown",
      "source": [
        "# **Manual Testing**\n",
        "I entered news from the Validation.tsv file."
      ],
      "metadata": {
        "id": "32N-J12GrBTD"
      }
    },
    {
      "cell_type": "code",
      "source": [
        "def output_label(n):\n",
        "    if n == 0:\n",
        "        return \"Fake News\"\n",
        "    elif n == 1:\n",
        "        return \"Real News\"\n",
        "\n",
        "def manual_testing(news):\n",
        "    # Creating a DataFrame for the input news\n",
        "    testing_news = {\"text\": [news]}\n",
        "    new_def_test = pd.DataFrame(testing_news)\n",
        "\n",
        "    # Apply Preprocessing function\n",
        "    new_def_test['text'] = new_def_test[\"text\"].apply(wordopt)\n",
        "\n",
        "    # Prepare the text for prediction\n",
        "    new_x_test = new_def_test[\"text\"]\n",
        "    new_xv_test = vectorization.transform(new_x_test)\n",
        "\n",
        "    # Predictions\n",
        "    pred_DT = DT.predict(new_xv_test)\n",
        "\n",
        "    # Print the results\n",
        "    print(\"\\nDT Prediction: {}\".format(output_label(pred_DT[0])))"
      ],
      "metadata": {
        "id": "HyEuBe4ZpyUR"
      },
      "execution_count": 34,
      "outputs": []
    },
    {
      "cell_type": "code",
      "source": [
        "# this is a fake news\n",
        "news_article = \"Mexico has been the beneficiary of our open borders for decades. It s really quite amazing how loudly they cry foul when we finally have a presidential candidate willing to stand up to this insanity and say, ENOUGH! It s Time to put Americans first! Illegal immigrants send home $50 billion annually but cost taxpayers more than $113 billion. Approximately 126,000 illegal immigrants emigrated from these three nations to the U.S. since last October and federal officials estimate at least 95,500 more will enter next year.The Central American governments have encouraged the high levels of emigration because it is earning their economy billions of dollars! For every illegal alien that sneaks into the U.S. and remits money back home, that grand total remittance number only grows. But what if the millions of U.S. jobs now filled by illegal aliens were done by American workers earning better wages, paying more in taxes and spending their money in their communities rather than sending it abroad?Americans are the ones forced to pick up the $113 billion tab for taking care of the country s 12 million illegal immigrants. Is it the responsibility of taxpaying citizens to cover the cost of illegal immigration and the government s aid to these countries while illegal workers continue to send their money overseas to send $50 billion overseas? Via: immigrationreform.comYet, somehow Donald Trump is to BLAME for wanting to shut down our open borders and bring some sanity back to our nation that is being overrun by Mexican drug runners and gang bangers coming from every corner of Mexico, Central and South America? A new Mexican movie promoted by Univision host Jorge Ramos portrays a drunk vigilante motivated by Republican presidential candidate Donald Trump s anti-immigrant rant killing at least four illegal immigrants at the border.The trailer for the movie, Desierto, now in Mexican theaters, blasts out Trump s initial criticism of illegal immigrants as a man armed with a rifle guns down targets crossing under barbed wire.https://youtu.be/V48ttgGqsswIt later shows the same man, in a pickup holding a bottle of what appears to be whisky, a beer can nearby, as a voice says, Welcome to the land of the free. The trailer ends with, words are as dangerous as bullets. The Center for Immigration Studies on Tuesday first blogged on the exploitation movie and the promotion by Ramos on his Sunday show Al Punto. This material resonates powerfully with Jorge Ramos. His conviction that racism and xenophobia are the driving forces of opposition to illegal immigration is a central theme of his nightly newscasts. Ramos fixates on reports that confirm his conviction with the obsessiveness of an exploitation film director showing close-ups of bullets tearing into human flesh, wrote CIS Fellow Jerry Kammer.He added: On Sunday, Ramos talked with Desierto director Jonas Cuaron and star Gael Garcia Bernal about Trump s repugnant comments about Mexicans. Since then, Ramos said, there are thousands if not millions of North Americans who feel that they have the absolute freedom to be racists. Via: Washington Examiner\"\n",
        "manual_testing(news_article)"
      ],
      "metadata": {
        "colab": {
          "base_uri": "https://localhost:8080/"
        },
        "id": "YN63Jzkvq_X0",
        "outputId": "7f5ee3c8-d625-4af0-e6cb-3f8b57b6cbf4"
      },
      "execution_count": 31,
      "outputs": [
        {
          "output_type": "stream",
          "name": "stdout",
          "text": [
            "\n",
            "DT Prediction: Fake News\n"
          ]
        }
      ]
    },
    {
      "cell_type": "code",
      "source": [
        "# this is a real news\n",
        "news_article2 = \"German Foreign Minister Sigmar Gabriel said it was necessary to do everything possible to make progress on the nuclear deal with Iran and that he did not see any indications during a visit to the United States that Washington would terminate it. U.S. President Donald Trump said earlier on Thursday that “nothing is off the table” in dealing with Iran following its test launch of a ballistic missile.\"\n",
        "manual_testing(news_article2)"
      ],
      "metadata": {
        "colab": {
          "base_uri": "https://localhost:8080/"
        },
        "id": "lffrYhuAsMuL",
        "outputId": "af78b9f5-bd0b-4e32-81f8-6bc810ceeeae"
      },
      "execution_count": 35,
      "outputs": [
        {
          "output_type": "stream",
          "name": "stdout",
          "text": [
            "\n",
            "DT Prediction: Real News\n"
          ]
        }
      ]
    },
    {
      "cell_type": "code",
      "source": [],
      "metadata": {
        "id": "TbdoOoGAsekM"
      },
      "execution_count": null,
      "outputs": []
    }
  ]
}
